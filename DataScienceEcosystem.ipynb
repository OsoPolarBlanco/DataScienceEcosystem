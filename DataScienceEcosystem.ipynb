{
 "cells": [
  {
   "cell_type": "markdown",
   "id": "f77ce54b-001c-4590-bcf5-ddb4e9a51428",
   "metadata": {},
   "source": [
    "# Data Science Tools and Ecosystem"
   ]
  },
  {
   "cell_type": "markdown",
   "id": "d92b9555-af59-436c-826a-cf2c13b89076",
   "metadata": {},
   "source": [
    "In this notebook, Data Science Tools and Ecosystem are summarized."
   ]
  },
  {
   "cell_type": "markdown",
   "id": "d7c5fad1-1c2b-4603-90b5-b837dd69bad0",
   "metadata": {},
   "source": [
    "**Objectives** List popular languages for Data Science:\n",
    "- Python\n",
    "- R\n",
    "- SQL \n",
    "- Scala"
   ]
  },
  {
   "cell_type": "markdown",
   "id": "d86663ee-18c6-4a80-a431-d4484cda253b",
   "metadata": {},
   "source": [
    "Some of the popular languages that Data Scientists use are:\n",
    "\n",
    "    1. Python\n",
    "    2. R\n",
    "    3. SQL \n",
    "    4. Scala"
   ]
  },
  {
   "cell_type": "markdown",
   "id": "751541af-6faf-468f-bad4-fa3c0fa7ca82",
   "metadata": {
    "tags": []
   },
   "source": [
    "Some of the commonly used libraries used by Data Scientists include:\n",
    "\n",
    "    1. TensorFlow\n",
    "    2. NumPy\n",
    "    3. SciPy \n",
    "    4. Pandas\n",
    "    5. Matplotlib \n",
    "    6. Keras\n",
    "    7. SciKit-Learn\n",
    "    8. ggplot\n",
    "    9. Dplyr\n",
    "    "
   ]
  },
  {
   "cell_type": "markdown",
   "id": "30dd78d8-649a-447b-be28-3f769966c4db",
   "metadata": {},
   "source": [
    "| Data Science Tools |\n",
    "| --- |\n",
    "| Apache Spark |\n",
    "| Matlab |\n",
    "| SAS |"
   ]
  },
  {
   "cell_type": "markdown",
   "id": "23e196e0-8f46-427b-839b-b406116a8465",
   "metadata": {},
   "source": [
    "### Below are a few examples of evaluating arithmetic expressions in Python"
   ]
  },
  {
   "cell_type": "code",
   "execution_count": 2,
   "id": "0bf6903d-6559-4897-baa1-913222d29f37",
   "metadata": {
    "tags": []
   },
   "outputs": [
    {
     "data": {
      "text/plain": [
       "17"
      ]
     },
     "execution_count": 2,
     "metadata": {},
     "output_type": "execute_result"
    }
   ],
   "source": [
    "# This a simple arithmetic expression to mutiply then add integers\n",
    "(3*4)+5"
   ]
  },
  {
   "cell_type": "code",
   "execution_count": 8,
   "id": "c0685f66-0d93-4029-9a24-4d1c3bc2a5bc",
   "metadata": {
    "tags": []
   },
   "outputs": [
    {
     "name": "stdout",
     "output_type": "stream",
     "text": [
      "200 minutes are 3 hours and 20 minutes\n"
     ]
    }
   ],
   "source": [
    "# This will convert 200 minutes to hours by diving by 60\n",
    "\n",
    "min = 200\n",
    "h = min//60\n",
    "m = min%60\n",
    "print(min, \"minutes are\", h, \"hours and\", m, \"minutes\")"
   ]
  },
  {
   "cell_type": "markdown",
   "id": "9ca28196-af03-419a-8b6e-407485b730bc",
   "metadata": {},
   "source": [
    "## Author\n",
    "\n",
    "Manuel Albeza Guijarro"
   ]
  },
  {
   "cell_type": "code",
   "execution_count": null,
   "id": "fb089d49-6a74-42cf-8d6f-0912bc19ec0c",
   "metadata": {},
   "outputs": [],
   "source": []
  }
 ],
 "metadata": {
  "kernelspec": {
   "display_name": "Python",
   "language": "python",
   "name": "conda-env-python-py"
  },
  "language_info": {
   "codemirror_mode": {
    "name": "ipython",
    "version": 3
   },
   "file_extension": ".py",
   "mimetype": "text/x-python",
   "name": "python",
   "nbconvert_exporter": "python",
   "pygments_lexer": "ipython3",
   "version": "3.7.12"
  }
 },
 "nbformat": 4,
 "nbformat_minor": 5
}
